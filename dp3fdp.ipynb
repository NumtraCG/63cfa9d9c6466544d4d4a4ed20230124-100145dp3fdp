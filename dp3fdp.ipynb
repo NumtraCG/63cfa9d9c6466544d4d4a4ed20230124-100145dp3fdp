{
 "cells": [
  {
   "cell_type": "markdown",
   "id": "e6bb8af8",
   "metadata": {},
   "source": [
    "***GENERATED CODE FOR dp3fdp PIPELINE.***"
   ]
  },
  {
   "cell_type": "markdown",
   "id": "8c8f9040",
   "metadata": {},
   "source": [
    "***DON'T EDIT THIS CODE.***"
   ]
  },
  {
   "cell_type": "markdown",
   "id": "ae634ae9",
   "metadata": {},
   "source": [
    "***CONNECTOR FUNCTIONS TO READ DATA.***"
   ]
  },
  {
   "cell_type": "code",
   "execution_count": null,
   "id": "b302a2a4",
   "metadata": {},
   "outputs": [],
   "source": [
    "from hdfs3 import HDFileSystem\n",
    "import datetime\n",
    "import logging\n",
    "import warnings\n",
    "warnings.filterwarnings('ignore')\n",
    "logging.basicConfig(format='%(levelname)s:%(message)s', level=logging.INFO)\n",
    "\n",
    "\n",
    "class HDFSConnector:\n",
    "\n",
    "    def fetch(spark, config):\n",
    "        ################### INPUT HADOOP HOST PORT TO CONNECT WITH ###############################\n",
    "        hdfs = HDFileSystem(\n",
    "            host=eval(config)['host'], port=eval(config)['port'])\n",
    "        with hdfs.open(eval(config)['url']) as f:\n",
    "            df = pd.read_csv(f, error_bad_lines=False)\n",
    "        df = spark.createDataFrame(dfPd)\n",
    "        display(df.limit(2).toPandas())\n",
    "        return df\n",
    "\n",
    "    def put(df, spark, config):\n",
    "        return df.write.format('csv').options(header='true' if eval(config)[\"is_header\"] == \"Use Header Line\" else 'false',\n",
    "                                              delimiter=eval(config)[\"delimiter\"]).save((\"%s %s\") % (datetime.datetime.now().strftime(\"%Y-%m-%d %H.%M.%S\")+\"_\", eval(config)['url']))\n"
   ]
  },
  {
   "cell_type": "markdown",
   "id": "fc464f74",
   "metadata": {},
   "source": [
    "***OPERATION FUNCTIONS***"
   ]
  },
  {
   "cell_type": "code",
   "execution_count": null,
   "id": "eb4282a9",
   "metadata": {},
   "outputs": [],
   "source": [
    "import pyspark\n",
    "from dask.dataframe import from_pandas\n",
    "import json\n",
    "\n",
    "\n",
    "def aggregation(df, functionsData, applyOn):\n",
    "    dfcp = df\n",
    "    for functionData in functionsData:\n",
    "        aggregateOn = []\n",
    "        groupOn = []\n",
    "\n",
    "        for column in functionData['aggregateOn']:\n",
    "            aggregateOn.append(column['columnName'])\n",
    "        for column in functionData['groupOn']:\n",
    "            groupOn.append(column['columnName'])\n",
    "        if functionData['aggregateFunction'] == 'count':\n",
    "            dfcp = (df.groupby(groupOn))[aggregateOn].count()\n",
    "        elif functionData['aggregateFunction'] == 'min':\n",
    "            dfcp = (df.groupby(groupOn))[aggregateOn].min()\n",
    "        elif functionData['aggregateFunction'] == 'max':\n",
    "            dfcp = (df.groupby(groupOn))[aggregateOn].max()\n",
    "        elif functionData['aggregateFunction'] == 'std':\n",
    "            dfcp = (df.groupby(groupOn))[aggregateOn].std()\n",
    "        elif functionData['aggregateFunction'] == 'mean':\n",
    "            dfcp = (df.groupby(groupOn))[aggregateOn].mean()\n",
    "        elif functionData['aggregateFunction'] == 'sum':\n",
    "            dfcp = (df.groupby(groupOn))[aggregateOn].sum()\n",
    "    return dfcp\n",
    "\n",
    "\n",
    "def runDataCleansing(sparkDf, spark, config):\n",
    "    configObj = json.loads(config)\n",
    "    sparkDf.persist(pyspark.StorageLevel.MEMORY_AND_DISK)\n",
    "    df = from_pandas((sparkDf.toPandas()), npartitions=5)\n",
    "    functionList = configObj['functionsApplied']\n",
    "    Data_Cleansing_Methods = {\"replaceBy\": replaceValues,\n",
    "                              \"formula\": calculateFormula,\n",
    "                              \"aggregate\": aggregation,\n",
    "                              \"converttostringtype\": changeToString,\n",
    "                              \"editname\": renameColumns}\n",
    "    for function in functionList:\n",
    "        function['functionName']\n",
    "        df = Data_Cleansing_Methods[function['functionName']](df, function['functionsData'],\n",
    "                                                              function['applyOn'])\n",
    "    sparkDf = spark.createDataFrame(df.compute())\n",
    "\n",
    "    display(sparkDf.limit(2).toPandas())\n",
    "    return sparkDf\n"
   ]
  },
  {
   "cell_type": "markdown",
   "id": "105dc6a4",
   "metadata": {},
   "source": [
    "***CONNECTOR FUNCTIONS TO WRITE DATA.***"
   ]
  },
  {
   "cell_type": "code",
   "execution_count": null,
   "id": "8c574f20",
   "metadata": {},
   "outputs": [],
   "source": [
    "import datetime\n",
    "import requests\n",
    "import datetime\n",
    "import logging\n",
    "import warnings\n",
    "warnings.filterwarnings('ignore')\n",
    "logging.basicConfig(format='%(levelname)s:%(message)s', level=logging.INFO)\n",
    "\n",
    "\n",
    "class NumtraConnector:\n",
    "\n",
    "    def put(inStages, inStagesData, stageId, spark, config):\n",
    "        path = eval(config)['server_url']\n",
    "        baseType = eval(config)['baseType']\n",
    "        results_url = eval(config)['results_url']\n",
    "        server = eval(config)['server']\n",
    "        originalfile = eval(config)['orignalKey']\n",
    "        eval(config)['pathOnly']\n",
    "        filename = eval(config)['filename']\n",
    "        eval(config)['ser']\n",
    "        eval(config)['user']\n",
    "        eval(config)['password']\n",
    "        eval(config)['authSource']\n",
    "        eval(config)['user_id']\n",
    "        eval(config)['parent_id']\n",
    "        eval(config)['project_id']\n",
    "        time = str(int(datetime.datetime.now().timestamp()))\n",
    "\n",
    "        inStagesData[inStages[0]]\n",
    "\n",
    "        print(path)\n",
    "        print(baseType)\n",
    "        print(results_url)\n",
    "        print(server)\n",
    "        print(originalfile)\n",
    "        print(filename)\n",
    "\n",
    "        args = {\n",
    "            'url': path,\n",
    "            'baseType': baseType,\n",
    "            'originalfile': originalfile,\n",
    "            'filename': time + filename\n",
    "        }\n",
    "\n",
    "        response = requests.post(results_url, args)\n",
    "        return response\n"
   ]
  },
  {
   "cell_type": "markdown",
   "id": "2cb35b3d",
   "metadata": {},
   "source": [
    "***READING DATAFRAME***"
   ]
  },
  {
   "cell_type": "code",
   "execution_count": null,
   "id": "7c6e48bb",
   "metadata": {},
   "outputs": [],
   "source": [
    "############## CREATE SPARK SESSION ############################ ENTER YOUR SPARK MASTER IP AND PORT TO CONNECT TO SERVER ################from pyspark.sql import SparkSession\n",
    "spark = SparkSession.builder.master('spark://0.0.0.0:0000').getOrCreate()\n",
    "#%run dp3fdpHooks.ipynb\n",
    "try:\n",
    "\t#sourcePreExecutionHook()\n",
    "\n",
    "\tdpfdata = HDFSConnector.fetch(spark, \"{'url': '/FileStore/platform/uploadedSourceFiles/part-00000-7187f00b-be30-4ca9-823d-aee3541b01df-c000.csv', 'filename': '1674553550DP2FData.csv', 'delimiter': ',', 'file_type': 'Delimeted', 'dbfs_token': '', 'dbfs_domain': '', 'FilePath': '/dataPipeline/DP2FData.csv', 'viewFileName': 'DP2FData.csv', 'is_header': 'Use Header Line', 'baseType': 'hdfs', 'server_url': '/numtraPlatform/NumtraPlatformV2/uploads/platform/', 'results_url': 'http://dev.numtra.com:4040/api/read/hdfs'}\")\n",
    "\n",
    "except Exception as ex: \n",
    "\tlogging.error(ex)\n"
   ]
  },
  {
   "cell_type": "markdown",
   "id": "3284fbe8",
   "metadata": {},
   "source": [
    "***PERFORMING OPERATIONS***"
   ]
  },
  {
   "cell_type": "code",
   "execution_count": null,
   "id": "e4871803",
   "metadata": {},
   "outputs": [],
   "source": [
    "#%run dp3fdpHooks.ipynb\n",
    "try:\n",
    "\t#operationPreExecutionHook()\n",
    "\n",
    "datapreparation = runDataCleansing(dpfdata,spark,json.dumps( {\"url\": \"/FileStore/platform/uploadedSourceFiles/part-00000-7187f00b-be30-4ca9-823d-aee3541b01df-c000.csv\", \"source_attributes\": {}, \"DataPrepFile\": \"/FileStore/platform/uploadedSourceFiles/part-00000-7187f00b-be30-4ca9-823d-aee3541b01df-c000.csv\", \"data_source\": \"platfiles\", \"startListenerOnly\": 1, \"dateColumnNames\": [\"due_date\", \"paid_off_time\"], \"FilePath\": \"/FileStore/platform/extra/63cfa9f4c6466544d4d4a5031674554360/0part.csv\", \"requestRatio\": 0.0, \"totalRows\": 6, \"BasicStats\": {\"missingValues\": 278.3, \"numberOfColumns\": 4, \"numberOfRows\": 6, \"duplicateRowCount\": 0, \"stats\": [{\"column\": \"terms\", \"alias\": \"terms\", \"generated\": 0, \"type\": \"numeric\", \"max\": 30, \"min\": 15, \"mean\": 25.0, \"missing\": 0.0, \"stddev\": 7.75, \"outliers\": [], \"validation\": []}, {\"column\": \"due_date\", \"alias\": \"due_date\", \"generated\": 0, \"type\": \"date\", \"max\": \"2016108\", \"min\": \"2016922\", \"mean\": \"\", \"missing\": 0.0, \"stddev\": \"\", \"outliers\": [], \"validation\": \"[]\"}, {\"column\": \"paid_off_time\", \"alias\": \"paid_off_time\", \"generated\": 0, \"type\": \"date\", \"max\": \"2016107\", \"min\": \"2016914\", \"mean\": \"\", \"missing\": 16.7, \"stddev\": \"\", \"outliers\": [], \"validation\": \"[{\\\"1\\\": NaN}]\"}, {\"column\": \"Gender\", \"alias\": \"Gender\", \"generated\": 0, \"type\": \"String\", \"max\": \"male\", \"min\": \"female\", \"mean\": \"\", \"missing\": 0.0, \"stddev\": \"\", \"outliers\": [], \"validation\": []}]}, \"predictionPowerScore\": [{\"Gender\": 1.0, \"due_date\": 0.0, \"paid_off_time\": 0.0, \"terms\": 0.0}, {\"Gender\": 0.0, \"due_date\": 1.0, \"paid_off_time\": 0.0, \"terms\": 0.0}, {\"Gender\": 0.0, \"due_date\": 0.0, \"paid_off_time\": 1.0, \"terms\": 0.0}, {\"Gender\": 0.4375, \"due_date\": 1.0, \"paid_off_time\": 0.0, \"terms\": 1.0}], \"HasBasicStats\": 1, \"functionsApplied\": [{\"functionName\": \"aggregate\", \"applyOn\": [{\"columnName\": \"due_date\", \"type\": \"date\", \"min\": \"2016922\", \"max\": \"2016108\", \"mean\": \"-\"}], \"functionsData\": [{\"aggregateFunction\": \"\", \"aggregateOn\": [{\"columnName\": \"due_date\", \"type\": \"date\", \"min\": \"2016922\", \"max\": \"2016108\", \"mean\": \"-\"}], \"groupOn\": [{\"columnName\": \"Gender\", \"type\": \"String\", \"min\": \"female\", \"max\": \"male\", \"mean\": \"-\"}]}]}], \"functionChanges\": [{\"columnName\": \"due_date\", \"functionName\": \"Aggregate\", \"Type\": \"date\", \"Parameters\": [{\"aggregateFunction\": \"\", \"aggregateOn\": [{\"columnName\": \"due_date\", \"type\": \"date\", \"min\": \"2016922\", \"max\": \"2016108\", \"mean\": \"-\"}], \"groupOn\": [{\"columnName\": \"Gender\", \"type\": \"String\", \"min\": \"female\", \"max\": \"male\", \"mean\": \"-\"}]}]}], \"fileheader\": [{\"field\": \"terms\", \"alias\": \"terms\", \"generated\": 0, \"position\": 1, \"type\": \"numeric\"}, {\"field\": \"due_date\", \"alias\": \"due_date\", \"generated\": 0, \"position\": 2, \"type\": \"date\"}, {\"field\": \"paid_off_time\", \"alias\": \"paid_off_time\", \"generated\": 0, \"position\": 3, \"type\": \"date\"}, {\"field\": \"Gender\", \"alias\": \"Gender\", \"generated\": 0, \"position\": 4, \"type\": \"String\"}]}))\n",
    "\t#operationPostExecutionHook(datapreparation)\n",
    "\n",
    "except Exception as ex: \n",
    "\tlogging.error(ex)\n"
   ]
  },
  {
   "cell_type": "markdown",
   "id": "c75af772",
   "metadata": {},
   "source": [
    "***WRITING DATAFRAME***"
   ]
  },
  {
   "cell_type": "code",
   "execution_count": null,
   "id": "d6ad2e38",
   "metadata": {},
   "outputs": [],
   "source": [
    "#%run dp3fdpHooks.ipynb\n",
    "try:\n",
    "\t#sinkPreExecutionHook()\n",
    "\n",
    "\tdatapipeline = NumtraConnector.fetch(spark, \"{'samplefile': '/FileStore/platform/sampleData/63cfa9f0c6466544d4d4a4ff/part-00000-56951ff8-bf77-4e37-9c94-928889aee250-c000.csv', 'samplecount': 6, 'originalcount': 6, 'orignalKey': '/FileStore/platform/uploadedSourceFiles/part-00000-7187f00b-be30-4ca9-823d-aee3541b01df-c000.csv', 'pathOnly': '/dataPipeline', 'project_id': '63c0fe048b96720de22fd1f9', 'parent_id': '63c0fe048b96720de22fd1f9', 'original_schema': [{'checked': True, 'inherited': True, 'is_categorical': False, 'bad_values': '', 'nullable': 'true', 'field': 'terms', 'alias': 'terms', 'type': 'numeric', 'position': '0'}, {'checked': True, 'inherited': True, 'is_categorical': False, 'bad_values': '', 'nullable': 'true', 'field': 'due_date', 'alias': 'due_date', 'type': 'date', 'position': '1'}, {'checked': True, 'inherited': True, 'is_categorical': False, 'bad_values': '', 'nullable': 'true', 'field': 'paid_off_time', 'alias': 'paid_off_time', 'type': 'date', 'position': '2'}, {'checked': True, 'inherited': True, 'is_categorical': False, 'bad_values': '', 'nullable': 'true', 'field': 'Gender', 'alias': 'Gender', 'type': 'String', 'position': '3'}], 'actual_schema': [{'checked': True, 'inherited': True, 'is_categorical': False, 'bad_values': '', 'nullable': 'true', 'field': 'terms', 'alias': 'terms', 'type': 'numeric', 'position': '0'}, {'checked': True, 'inherited': True, 'is_categorical': False, 'bad_values': '', 'nullable': 'true', 'field': 'due_date', 'alias': 'due_date', 'type': 'date', 'position': '1'}, {'checked': True, 'inherited': True, 'is_categorical': False, 'bad_values': '', 'nullable': 'true', 'field': 'paid_off_time', 'alias': 'paid_off_time', 'type': 'date', 'position': '2'}, {'checked': True, 'inherited': True, 'is_categorical': False, 'bad_values': '', 'nullable': 'true', 'field': 'Gender', 'alias': 'Gender', 'type': 'String', 'position': '3'}], 'server': 'https://dev.numtra.com:443', 'server_url': '/numtraPlatform/NumtraPlatformV2/uploads/platform/', 'delimiter': ',', 'file_type': 'Delimeted', 'filename': 'DP3FDPdata.csv', 'token': '', 'domain': '', 'is_header': 'Use Header Line', 'url': '/FileStore/platform/uploadedSourceFiles/part-00000-0883ccff-1d5b-41d7-b793-56c67b50d51d-c000.csv', 'results_url': 'http://dev.numtra.com:4040/api/read/hdfs'}\")\n",
    "\n",
    "except Exception as ex: \n",
    "\tlogging.error(ex)\n"
   ]
  }
 ],
 "metadata": {},
 "nbformat": 4,
 "nbformat_minor": 5
}
